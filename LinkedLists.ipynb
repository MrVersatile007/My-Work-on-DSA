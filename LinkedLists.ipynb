{
  "nbformat": 4,
  "nbformat_minor": 0,
  "metadata": {
    "colab": {
      "name": "LinkedLists.ipynb",
      "provenance": [],
      "collapsed_sections": [],
      "authorship_tag": "ABX9TyPTxlglFlFZ3DtkJve2cscu",
      "include_colab_link": true
    },
    "kernelspec": {
      "name": "python3",
      "display_name": "Python 3"
    },
    "language_info": {
      "name": "python"
    }
  },
  "cells": [
    {
      "cell_type": "markdown",
      "metadata": {
        "id": "view-in-github",
        "colab_type": "text"
      },
      "source": [
        "<a href=\"https://colab.research.google.com/github/MrVersatile007/My-Work-on-DSA/blob/main/LinkedLists.ipynb\" target=\"_parent\"><img src=\"https://colab.research.google.com/assets/colab-badge.svg\" alt=\"Open In Colab\"/></a>"
      ]
    },
    {
      "cell_type": "code",
      "execution_count": null,
      "metadata": {
        "id": "NPKtotGmWfUT"
      },
      "outputs": [],
      "source": [
        "# Operations on Singlr LL\n",
        "'''\n",
        "1- Creation of LL\n",
        "2- Insertion of Data\n",
        "3- Traversal\n",
        "4- Searching a given value\n",
        "5- Deletion of node\n",
        "6- Deletion of linked list\n",
        "''' "
      ]
    },
    {
      "cell_type": "code",
      "source": [
        "#Linked list is the collection of nodes\n",
        "class Node:\n",
        "  def __init__(self, data):\n",
        "    self.data = data\n",
        "    self.next = None\n",
        "  \n",
        "class SingleLinkedList:\n",
        "  def __init__(self):\n",
        "    self.head = None\n",
        "    self.tail = None\n",
        "    self.size = 0\n",
        "\n",
        "    # Creation of Linked List\n",
        "    def create(self, data):\n",
        "      new_node = Node(data)\n",
        "      self.head = new_node\n",
        "      self.tail = new_node\n",
        "    \n",
        "    #Just checks if the list is empty or not\n",
        "    def is_empty(self):\n",
        "      return self.head is None\n",
        "\n",
        "    # Insertion of data\n",
        "    def insert(self, data, start=False, end=False, location=0):\n",
        "      if self.is_empty:\n",
        "        print(\"[ERROR] List is empty please create a LL\")\n",
        "        return\n",
        "      new_node = Node(data)\n",
        "      #Insert at the start of Linked List\n",
        "      if start :\n",
        "        new_node.next = self.head\n",
        "        self.head = new_node\n",
        "      #Insert at the end of Linked List\n",
        "      elif end :\n",
        "        self.tail.next = new_node\n",
        "        self.tail = new_node\n",
        "      #Inserting at the \n",
        "      else :\n",
        "        if location == 0 or location == 1 or location >= self.size:\n",
        "          print(\"[ERROR] Please enter a proper location\")\n",
        "          return\n",
        "\n",
        "         # Move from head to location - 1\n",
        "          # Update the next of new node\n",
        "          # Update the next of temp_node\n",
        "          temp_node = self.head\n",
        "          for _ in range(location-1):\n",
        "            temp_node = temp_node.next\n",
        "          new_node.next = temp_node.next\n",
        "          temp_node.next = new_node\n",
        "        self.size+=1\n",
        "\n",
        "      # Traversing through the Linked List\n",
        "      def traversal(self):\n",
        "        current_node = self.head\n",
        "        while current_node is not None:\n",
        "          current_node = current_node.next\n",
        "          print(current_node, end= \"  >>>  \")\n",
        "\n",
        "\n",
        "        \n",
        "\n"
      ],
      "metadata": {
        "id": "1jzorreLycQs"
      },
      "execution_count": 17,
      "outputs": []
    },
    {
      "cell_type": "code",
      "source": [
        "obj = SingleLinkedList()"
      ],
      "metadata": {
        "id": "IL2aAlPaGJ9a"
      },
      "execution_count": 18,
      "outputs": []
    },
    {
      "cell_type": "code",
      "source": [
        "obj.insert(10, start= True)"
      ],
      "metadata": {
        "colab": {
          "base_uri": "https://localhost:8080/",
          "height": 165
        },
        "id": "uxaPgmbBGV5i",
        "outputId": "71c85d70-bea9-40d7-f16f-721bf7988660"
      },
      "execution_count": 19,
      "outputs": [
        {
          "output_type": "error",
          "ename": "AttributeError",
          "evalue": "ignored",
          "traceback": [
            "\u001b[0;31m---------------------------------------------------------------------------\u001b[0m",
            "\u001b[0;31mAttributeError\u001b[0m                            Traceback (most recent call last)",
            "\u001b[0;32m<ipython-input-19-fa6df0e63cc3>\u001b[0m in \u001b[0;36m<module>\u001b[0;34m()\u001b[0m\n\u001b[0;32m----> 1\u001b[0;31m \u001b[0mobj\u001b[0m\u001b[0;34m.\u001b[0m\u001b[0minsert\u001b[0m\u001b[0;34m(\u001b[0m\u001b[0;36m10\u001b[0m\u001b[0;34m,\u001b[0m \u001b[0mstart\u001b[0m\u001b[0;34m=\u001b[0m \u001b[0;32mTrue\u001b[0m\u001b[0;34m)\u001b[0m\u001b[0;34m\u001b[0m\u001b[0;34m\u001b[0m\u001b[0m\n\u001b[0m",
            "\u001b[0;31mAttributeError\u001b[0m: 'SLL' object has no attribute 'insert'"
          ]
        }
      ]
    },
    {
      "cell_type": "code",
      "source": [
        "obj"
      ],
      "metadata": {
        "id": "3385e2P2GZLT"
      },
      "execution_count": null,
      "outputs": []
    }
  ]
}